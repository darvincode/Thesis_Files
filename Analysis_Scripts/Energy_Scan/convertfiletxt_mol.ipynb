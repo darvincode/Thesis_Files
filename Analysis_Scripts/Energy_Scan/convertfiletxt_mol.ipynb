{
 "cells": [
  {
   "cell_type": "code",
   "execution_count": 21,
   "metadata": {},
   "outputs": [],
   "source": [
    "import rdkit\n",
    "from rdkit import Chem\n",
    "import os\n",
    "import random\n",
    "import pandas as pd\n",
    "import time\n",
    "import numpy as np\n",
    "#import mdtraj as md\n",
    "import nglview\n",
    "import openmm\n",
    "from openbabel import openbabel\n",
    "\n",
    "from openff.toolkit.topology import Molecule, Topology\n",
    "from openff.toolkit.typing.engines.smirnoff import ForceField\n",
    "from openff.toolkit.utils import get_data_file_path\n",
    "from openff.toolkit.utils.toolkits import RDKitToolkitWrapper, OpenEyeToolkitWrapper, AmberToolsToolkitWrapper\n",
    "from openff.units import unit\n",
    "from pandas import read_csv\n",
    "\n",
    "from openff.interchange import Interchange\n",
    "from openff.interchange.components._packmol import UNIT_CUBE, pack_box, RHOMBIC_DODECAHEDRON\n",
    "from openff.interchange.components._packmol import _max_dist_between_points, _compute_brick_from_box_vectors, _center_topology_at\n",
    "from openmm.openmm import System\n",
    "from openmm import MonteCarloBarostat\n",
    "\n",
    "import subprocess\n",
    "from openmm.app.simulation import Simulation\n",
    "#from  rdkit  import  Chem\n",
    "from  rdkit.Chem  import  rdDistGeom\n",
    "from  rdkit.Chem.Draw  import  IPythonConsole\n",
    "import warnings\n",
    "warnings.filterwarnings('ignore')\n",
    "\n",
    "import openbabel as obabel \n",
    "import os"
   ]
  },
  {
   "cell_type": "code",
   "execution_count": 23,
   "metadata": {},
   "outputs": [
    {
     "data": {
      "text/plain": [
       "'/Users/darv/Documents/Academic/Simulations/Energy_Comparison/torsion_1_xyz'"
      ]
     },
     "execution_count": 23,
     "metadata": {},
     "output_type": "execute_result"
    }
   ],
   "source": [
    "os.getcwd()"
   ]
  },
  {
   "cell_type": "code",
   "execution_count": 33,
   "metadata": {},
   "outputs": [
    {
     "name": "stdout",
     "output_type": "stream",
     "text": [
      "1 molecule converted\n",
      "1 molecule converted\n",
      "1 molecule converted\n",
      "1 molecule converted\n",
      "1 molecule converted\n",
      "1 molecule converted\n",
      "1 molecule converted\n",
      "1 molecule converted\n",
      "1 molecule converted\n",
      "1 molecule converted\n",
      "1 molecule converted\n",
      "1 molecule converted\n",
      "1 molecule converted\n",
      "1 molecule converted\n",
      "1 molecule converted\n",
      "1 molecule converted\n",
      "1 molecule converted\n"
     ]
    }
   ],
   "source": [
    "!obabel tor_2_20.xyz -O tor_2_20.mol\n",
    "!obabel tor_2_30.xyz -O tor_2_30.mol\n",
    "!obabel tor_2_40.xyz -O tor_2_40.mol\n",
    "!obabel tor_2_50.xyz -O tor_2_50.mol\n",
    "!obabel tor_2_60.xyz -O tor_2_60.mol\n",
    "!obabel tor_2_70.xyz -O tor_2_70.mol\n",
    "!obabel tor_2_80.xyz -O tor_2_80.mol\n",
    "!obabel tor_2_90.xyz -O tor_2_90.mol\n",
    "!obabel tor_2_100.xyz -O tor_2_100.mol\n",
    "!obabel tor_2_110.xyz -O tor_2_110.mol\n",
    "!obabel tor_2_120.xyz -O tor_2_120.mol\n",
    "!obabel tor_2_130.xyz -O tor_2_130.mol\n",
    "!obabel tor_2_140.xyz -O tor_2_140.mol\n",
    "!obabel tor_2_150.xyz -O tor_2_150.mol\n",
    "!obabel tor_2_160.xyz -O tor_2_160.mol\n",
    "!obabel tor_2_170.xyz -O tor_2_170.mol\n",
    "!obabel tor_2_180.xyz -O tor_2_180.mol"
   ]
  },
  {
   "cell_type": "code",
   "execution_count": 38,
   "metadata": {},
   "outputs": [],
   "source": [
    "os.chdir('../torsion_2_xyz')"
   ]
  },
  {
   "cell_type": "code",
   "execution_count": 39,
   "metadata": {},
   "outputs": [
    {
     "name": "stdout",
     "output_type": "stream",
     "text": [
      "1 molecule converted\n",
      "1 molecule converted\n",
      "1 molecule converted\n",
      "1 molecule converted\n",
      "1 molecule converted\n",
      "1 molecule converted\n",
      "1 molecule converted\n",
      "1 molecule converted\n",
      "1 molecule converted\n",
      "1 molecule converted\n",
      "1 molecule converted\n",
      "1 molecule converted\n",
      "1 molecule converted\n",
      "1 molecule converted\n",
      "1 molecule converted\n",
      "1 molecule converted\n",
      "1 molecule converted\n",
      "1 molecule converted\n",
      "1 molecule converted\n"
     ]
    }
   ],
   "source": [
    "!obabel tor_2_0.xyz -O tor_2_0.mol\n",
    "!obabel tor_2_10.xyz -O tor_2_10.mol\n",
    "!obabel tor_2_20.xyz -O tor_2_20.mol\n",
    "!obabel tor_2_30.xyz -O tor_2_30.mol\n",
    "!obabel tor_2_40.xyz -O tor_2_40.mol\n",
    "!obabel tor_2_50.xyz -O tor_2_50.mol\n",
    "!obabel tor_2_60.xyz -O tor_2_60.mol\n",
    "!obabel tor_2_70.xyz -O tor_2_70.mol\n",
    "!obabel tor_2_80.xyz -O tor_2_80.mol\n",
    "!obabel tor_2_90.xyz -O tor_2_90.mol\n",
    "!obabel tor_2_100.xyz -O tor_2_100.mol\n",
    "!obabel tor_2_110.xyz -O tor_2_110.mol\n",
    "!obabel tor_2_120.xyz -O tor_2_120.mol\n",
    "!obabel tor_2_130.xyz -O tor_2_130.mol\n",
    "!obabel tor_2_140.xyz -O tor_2_140.mol\n",
    "!obabel tor_2_150.xyz -O tor_2_150.mol\n",
    "!obabel tor_2_160.xyz -O tor_2_160.mol\n",
    "!obabel tor_2_170.xyz -O tor_2_170.mol\n",
    "!obabel tor_2_180.xyz -O tor_2_180.mol"
   ]
  },
  {
   "cell_type": "code",
   "execution_count": null,
   "metadata": {},
   "outputs": [],
   "source": []
  }
 ],
 "metadata": {
  "kernelspec": {
   "display_name": "QCflow",
   "language": "python",
   "name": "python3"
  },
  "language_info": {
   "codemirror_mode": {
    "name": "ipython",
    "version": 3
   },
   "file_extension": ".py",
   "mimetype": "text/x-python",
   "name": "python",
   "nbconvert_exporter": "python",
   "pygments_lexer": "ipython3",
   "version": "3.12.7"
  }
 },
 "nbformat": 4,
 "nbformat_minor": 2
}
